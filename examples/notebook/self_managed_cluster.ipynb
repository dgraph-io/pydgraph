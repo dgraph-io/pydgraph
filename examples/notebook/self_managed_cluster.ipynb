{
 "cells": [
  {
   "cell_type": "markdown",
   "metadata": {},
   "source": [
    "# pydgraph example notebook\n",
    "\n",
    "## Self-managed cluster version\n",
    "\n",
    "This example notebook version uses an an existing Dgraph cluster that you control. If you have Docker, the TLDR; version is:\n",
    "\n",
    "```sh\n",
    "docker run --rm -it -p 8080:8080 -p 9080:9080 -p 5080:5080 dgraph/standalone:latest\n",
    "```\n",
    "\n",
    "For more information on starting Dgraph with Docker or Docker Compose, see this [document](https://dgraph.io/docs/learn/data-engineer/get-started-with-dgraph/tutorial-1/).\n",
    "\n",
    "This example notebook uses a schema and data from the [Dgraph ICIJ offshore leaks repository](https://github.com/dgraph-io/vlg). Please refer to that repo for a discussion of the schema and data.\n",
    "\n",
    "**Please note that this notebook updates the schema in the configured cluster and loads data into it.**"
   ]
  },
  {
   "cell_type": "code",
   "execution_count": null,
   "metadata": {},
   "outputs": [],
   "source": [
    "# Set the hostname of the Dgraph alpha service\n",
    "dgraph_hostname = \"localhost\""
   ]
  },
  {
   "cell_type": "code",
   "execution_count": null,
   "metadata": {},
   "outputs": [],
   "source": [
    "# This cell checks that the required ports for the Dgraph cluster are accessible from this notebook. It also sets\n",
    "# important port variables used in later cells\n",
    "\n",
    "import socket\n",
    "\n",
    "def check_port(url, port):\n",
    "    \"\"\"\n",
    "    check_port returns true if the port at the url is accepting connections\n",
    "    \"\"\"\n",
    "    try:\n",
    "        sock = socket.socket(socket.AF_INET, socket.SOCK_STREAM)\n",
    "        sock.settimeout(3)  # Set a timeout value for the connection attempt\n",
    "        result = sock.connect_ex((url, port))\n",
    "        sock.close()\n",
    "        if result == 0:\n",
    "            return True\n",
    "        else:\n",
    "            return False\n",
    "    except socket.error:\n",
    "        return False\n",
    "\n",
    "# check ports to ensure access. these are the defaults, change these to match your custom \n",
    "dgraph_http_port = 8080\n",
    "dgraph_grpc_port = 9080\n",
    "dgraph_zero_port = 5080\n",
    "if not check_port(dgraph_hostname, dgraph_http_port):\n",
    "    print(f\"Port {dgraph_http_port} at {dgraph_hostname} not responding, is the server running?\")\n",
    "elif not check_port(dgraph_hostname, dgraph_grpc_port):\n",
    "    print(f\"Port {dgraph_grpc_port} at {dgraph_hostname} not responding, is the server running?\")\n",
    "elif not check_port(dgraph_hostname, dgraph_zero_port):\n",
    "    print(f\"Port {dgraph_zero_port} at {dgraph_hostname} not responding, is the server running?\")\n",
    "else:\n",
    "    print(\"Required ports accepting connections\")"
   ]
  },
  {
   "cell_type": "code",
   "execution_count": null,
   "metadata": {},
   "outputs": [],
   "source": [
    "# Apply a GraphQL Schema to the cluster\n",
    "\n",
    "!curl -Ss https://raw.githubusercontent.com/dgraph-io/vlg/main/schema/schema.graphql --output schema.graphql\n",
    "admin_endpoint = f\"http://{dgraph_hostname}:{dgraph_http_port}/admin/schema\"\n",
    "!curl --data-binary '@./schema.graphql' {admin_endpoint}"
   ]
  },
  {
   "cell_type": "code",
   "execution_count": null,
   "metadata": {},
   "outputs": [],
   "source": [
    "# Load data into the cluster\n",
    "\n",
    "!curl -Ss https://raw.githubusercontent.com/dgraph-io/vlg/main/rdf-subset/data.rdf.gz --output data.rdf.gz\n",
    "\n",
    "# Find ways to load data into the cluster\n",
    "import shutil, os, platform\n",
    "\n",
    "pwd = os.getcwd()\n",
    "if shutil.which('docker') is not None:\n",
    "    docker_host = dgraph_hostname\n",
    "    if dgraph_hostname == 'localhost':\n",
    "        docker_host = 'host.docker.internal'\n",
    "    !docker run -it -v {pwd}:/data dgraph/standalone:latest dgraph live -f /data/data.rdf.gz --alpha {docker_host}:{dgraph_grpc_port} --zero {docker_host}:{dgraph_zero_port}\n",
    "elif shutil.which('dgraph') is not None:\n",
    "    !dgraph live -f ./data.rdf.gz --alpha {dgraph_hostname}:{dgraph_grpc_port} --zero {dgraph_hostname}:{dgraph_zero_port}\n",
    "elif platform.system == \"Linux\":\n",
    "    !curl https://get.dgraph.io -sSf | bash -s -- -y\n",
    "    !dgraph live -f ./data.rdf.gz --alpha {dgraph_hostname}:{dgraph_grpc_port} --zero {dgraph_hostname}:{dgraph_zero_port}\n",
    "else:\n",
    "    raise Exception(\"Unable to find a way to load data into your cluster.\")\n",
    "\n",
    "    "
   ]
  },
  {
   "cell_type": "code",
   "execution_count": null,
   "metadata": {},
   "outputs": [],
   "source": [
    "# Install pydgraph\n",
    "\n",
    "!pip install pydgraph"
   ]
  },
  {
   "cell_type": "code",
   "execution_count": null,
   "metadata": {},
   "outputs": [],
   "source": [
    "# Initialize a pydgraph client\n",
    "\n",
    "import pydgraph\n",
    "\n",
    "client_stub = pydgraph.DgraphClientStub(addr=f\"{dgraph_hostname}:{dgraph_grpc_port}\", options=[('grpc.max_receive_message_length', 1024*1024*1024)])\n",
    "pyd_client = pydgraph.DgraphClient(client_stub)\n",
    "print(\"Dgraph Version:\", pyd_client.check_version())"
   ]
  },
  {
   "cell_type": "code",
   "execution_count": null,
   "metadata": {},
   "outputs": [],
   "source": [
    "# Perform a DQL query\n",
    "\n",
    "import json\n",
    "\n",
    "query = \"\"\"\n",
    "{\n",
    "  q(func: anyoftext(Record.name, \"living\"), first: 10) {\n",
    "    id: Record.nodeID\n",
    "    name: Record.name\n",
    "  }\n",
    "}\n",
    "\"\"\"\n",
    "res = pyd_client.txn(read_only=True).query(query)\n",
    "print(json.dumps(json.loads(res.json), indent=2))\n"
   ]
  }
 ],
 "metadata": {
  "kernelspec": {
   "display_name": "Python 3 (ipykernel)",
   "language": "python",
   "name": "python3"
  },
  "language_info": {
   "codemirror_mode": {
    "name": "ipython",
    "version": 3
   },
   "file_extension": ".py",
   "mimetype": "text/x-python",
   "name": "python",
   "nbconvert_exporter": "python",
   "pygments_lexer": "ipython3",
   "version": "3.11.3"
  }
 },
 "nbformat": 4,
 "nbformat_minor": 2
}
